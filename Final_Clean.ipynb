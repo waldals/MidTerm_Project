{
 "cells": [
  {
   "cell_type": "markdown",
   "metadata": {
    "id": "Gr3AfEQaOliS"
   },
   "source": [
    "# Train data"
   ]
  },
  {
   "cell_type": "code",
   "execution_count": null,
   "metadata": {
    "id": "e2jcvF9cPJIP"
   },
   "outputs": [],
   "source": [
    "import numpy as np\r\n",
    "import pandas as pd"
   ]
  },
  {
   "cell_type": "code",
   "execution_count": null,
   "metadata": {
    "id": "5JgJ-HsnOpSt"
   },
   "outputs": [],
   "source": [
    "train_data = pd.read_pickle('/content/drive/MyDrive/merge_sample_full_new.pkl')"
   ]
  },
  {
   "cell_type": "code",
   "execution_count": null,
   "metadata": {
    "colab": {
     "base_uri": "https://localhost:8080/",
     "height": 114
    },
    "id": "Z3s3gx-sPBNE",
    "outputId": "bfef1a93-e943-4931-f3c1-2b79ee198bf3"
   },
   "outputs": [
    {
     "data": {
      "text/html": [
       "<div>\n",
       "<style scoped>\n",
       "    .dataframe tbody tr th:only-of-type {\n",
       "        vertical-align: middle;\n",
       "    }\n",
       "\n",
       "    .dataframe tbody tr th {\n",
       "        vertical-align: top;\n",
       "    }\n",
       "\n",
       "    .dataframe thead th {\n",
       "        text-align: right;\n",
       "    }\n",
       "</style>\n",
       "<table border=\"1\" class=\"dataframe\">\n",
       "  <thead>\n",
       "    <tr style=\"text-align: right;\">\n",
       "      <th></th>\n",
       "      <th>fl_date</th>\n",
       "      <th>mkt_unique_carrier</th>\n",
       "      <th>branded_code_share</th>\n",
       "      <th>mkt_carrier</th>\n",
       "      <th>mkt_carrier_fl_num</th>\n",
       "      <th>op_unique_carrier</th>\n",
       "      <th>tail_num</th>\n",
       "      <th>op_carrier_fl_num</th>\n",
       "      <th>origin_airport_id</th>\n",
       "      <th>origin</th>\n",
       "      <th>origin_city_name</th>\n",
       "      <th>dest_airport_id</th>\n",
       "      <th>dest</th>\n",
       "      <th>dest_city_name</th>\n",
       "      <th>crs_dep_time</th>\n",
       "      <th>dep_time</th>\n",
       "      <th>dep_delay</th>\n",
       "      <th>taxi_out</th>\n",
       "      <th>wheels_off</th>\n",
       "      <th>wheels_on</th>\n",
       "      <th>taxi_in</th>\n",
       "      <th>crs_arr_time</th>\n",
       "      <th>arr_time</th>\n",
       "      <th>arr_delay</th>\n",
       "      <th>cancelled</th>\n",
       "      <th>cancellation_code</th>\n",
       "      <th>diverted</th>\n",
       "      <th>dup</th>\n",
       "      <th>crs_elapsed_time</th>\n",
       "      <th>actual_elapsed_time</th>\n",
       "      <th>air_time</th>\n",
       "      <th>flights</th>\n",
       "      <th>distance</th>\n",
       "      <th>carrier_delay</th>\n",
       "      <th>weather_delay</th>\n",
       "      <th>nas_delay</th>\n",
       "      <th>security_delay</th>\n",
       "      <th>late_aircraft_delay</th>\n",
       "      <th>first_dep_time</th>\n",
       "      <th>total_add_gtime</th>\n",
       "      <th>longest_add_gtime</th>\n",
       "      <th>no_name</th>\n",
       "    </tr>\n",
       "  </thead>\n",
       "  <tbody>\n",
       "    <tr>\n",
       "      <th>11118850</th>\n",
       "      <td>2018-02-26</td>\n",
       "      <td>DL</td>\n",
       "      <td>DL_CODESHARE</td>\n",
       "      <td>DL</td>\n",
       "      <td>4706</td>\n",
       "      <td>OO</td>\n",
       "      <td>N243SY</td>\n",
       "      <td>4706</td>\n",
       "      <td>13198</td>\n",
       "      <td>MCI</td>\n",
       "      <td>Kansas City, MO</td>\n",
       "      <td>14869</td>\n",
       "      <td>SLC</td>\n",
       "      <td>Salt Lake City, UT</td>\n",
       "      <td>1735</td>\n",
       "      <td>1831.0</td>\n",
       "      <td>56.0</td>\n",
       "      <td>13.0</td>\n",
       "      <td>1844.0</td>\n",
       "      <td>2013.0</td>\n",
       "      <td>9.0</td>\n",
       "      <td>1325</td>\n",
       "      <td>1329.0</td>\n",
       "      <td>4.0</td>\n",
       "      <td>0.0</td>\n",
       "      <td>NaN</td>\n",
       "      <td>0.0</td>\n",
       "      <td>N</td>\n",
       "      <td>75.0</td>\n",
       "      <td>83.0</td>\n",
       "      <td>55.0</td>\n",
       "      <td>1.0</td>\n",
       "      <td>224.0</td>\n",
       "      <td>NaN</td>\n",
       "      <td>NaN</td>\n",
       "      <td>NaN</td>\n",
       "      <td>NaN</td>\n",
       "      <td>NaN</td>\n",
       "      <td>NaN</td>\n",
       "      <td>NaN</td>\n",
       "      <td>NaN</td>\n",
       "      <td>NaN</td>\n",
       "    </tr>\n",
       "  </tbody>\n",
       "</table>\n",
       "</div>"
      ],
      "text/plain": [
       "             fl_date mkt_unique_carrier  ... longest_add_gtime no_name\n",
       "11118850  2018-02-26                 DL  ...               NaN     NaN\n",
       "\n",
       "[1 rows x 42 columns]"
      ]
     },
     "execution_count": 298,
     "metadata": {
      "tags": []
     },
     "output_type": "execute_result"
    }
   ],
   "source": [
    "train_data.head(1)"
   ]
  },
  {
   "cell_type": "markdown",
   "metadata": {
    "id": "mBz1YSxjOpsK"
   },
   "source": [
    "# Test data"
   ]
  },
  {
   "cell_type": "code",
   "execution_count": null,
   "metadata": {
    "id": "B3DxQlLnOriN"
   },
   "outputs": [],
   "source": [
    "#FINAL DATA\r\n",
    "final_data_original = pd.read_pickle('/content/drive/MyDrive/flights_test.pkl')"
   ]
  },
  {
   "cell_type": "code",
   "execution_count": null,
   "metadata": {
    "colab": {
     "base_uri": "https://localhost:8080/",
     "height": 114
    },
    "id": "4JHxjLQgPB3e",
    "outputId": "3b650904-b057-40ee-bcf6-7a44c44f5bd0"
   },
   "outputs": [
    {
     "data": {
      "text/html": [
       "<div>\n",
       "<style scoped>\n",
       "    .dataframe tbody tr th:only-of-type {\n",
       "        vertical-align: middle;\n",
       "    }\n",
       "\n",
       "    .dataframe tbody tr th {\n",
       "        vertical-align: top;\n",
       "    }\n",
       "\n",
       "    .dataframe thead th {\n",
       "        text-align: right;\n",
       "    }\n",
       "</style>\n",
       "<table border=\"1\" class=\"dataframe\">\n",
       "  <thead>\n",
       "    <tr style=\"text-align: right;\">\n",
       "      <th></th>\n",
       "      <th>fl_date</th>\n",
       "      <th>mkt_unique_carrier</th>\n",
       "      <th>branded_code_share</th>\n",
       "      <th>mkt_carrier</th>\n",
       "      <th>mkt_carrier_fl_num</th>\n",
       "      <th>op_unique_carrier</th>\n",
       "      <th>tail_num</th>\n",
       "      <th>op_carrier_fl_num</th>\n",
       "      <th>origin_airport_id</th>\n",
       "      <th>origin</th>\n",
       "      <th>origin_city_name</th>\n",
       "      <th>dest_airport_id</th>\n",
       "      <th>dest</th>\n",
       "      <th>dest_city_name</th>\n",
       "      <th>crs_dep_time</th>\n",
       "      <th>crs_arr_time</th>\n",
       "      <th>dup</th>\n",
       "      <th>crs_elapsed_time</th>\n",
       "      <th>flights</th>\n",
       "      <th>distance</th>\n",
       "    </tr>\n",
       "  </thead>\n",
       "  <tbody>\n",
       "    <tr>\n",
       "      <th>0</th>\n",
       "      <td>2020-01-01</td>\n",
       "      <td>WN</td>\n",
       "      <td>WN</td>\n",
       "      <td>WN</td>\n",
       "      <td>5888</td>\n",
       "      <td>WN</td>\n",
       "      <td>N951WN</td>\n",
       "      <td>5888</td>\n",
       "      <td>13891</td>\n",
       "      <td>ONT</td>\n",
       "      <td>Ontario, CA</td>\n",
       "      <td>14771</td>\n",
       "      <td>SFO</td>\n",
       "      <td>San Francisco, CA</td>\n",
       "      <td>1810</td>\n",
       "      <td>1945</td>\n",
       "      <td>N</td>\n",
       "      <td>95</td>\n",
       "      <td>1</td>\n",
       "      <td>363</td>\n",
       "    </tr>\n",
       "  </tbody>\n",
       "</table>\n",
       "</div>"
      ],
      "text/plain": [
       "     fl_date mkt_unique_carrier  ... flights distance\n",
       "0 2020-01-01                 WN  ...       1      363\n",
       "\n",
       "[1 rows x 20 columns]"
      ]
     },
     "execution_count": 300,
     "metadata": {
      "tags": []
     },
     "output_type": "execute_result"
    }
   ],
   "source": [
    "final_data_original.head(1)"
   ]
  },
  {
   "cell_type": "markdown",
   "metadata": {
    "id": "NmUWFl35PPzk"
   },
   "source": [
    "# Clean Data"
   ]
  },
  {
   "cell_type": "code",
   "execution_count": null,
   "metadata": {
    "colab": {
     "base_uri": "https://localhost:8080/"
    },
    "id": "yXl_Ex5JPjHq",
    "outputId": "2bce990f-448c-4841-8a54-7e47e54f64d4"
   },
   "outputs": [
    {
     "name": "stdout",
     "output_type": "stream",
     "text": [
      "Requirement already satisfied: datacleaner in /usr/local/lib/python3.6/dist-packages (0.1.5)\n",
      "Requirement already satisfied: update-checker in /usr/local/lib/python3.6/dist-packages (from datacleaner) (0.18.0)\n",
      "Requirement already satisfied: scikit-learn in /usr/local/lib/python3.6/dist-packages (from datacleaner) (0.22.2.post1)\n",
      "Requirement already satisfied: pandas in /usr/local/lib/python3.6/dist-packages (from datacleaner) (1.1.5)\n",
      "Requirement already satisfied: requests>=2.3.0 in /usr/local/lib/python3.6/dist-packages (from update-checker->datacleaner) (2.23.0)\n",
      "Requirement already satisfied: numpy>=1.11.0 in /usr/local/lib/python3.6/dist-packages (from scikit-learn->datacleaner) (1.19.5)\n",
      "Requirement already satisfied: joblib>=0.11 in /usr/local/lib/python3.6/dist-packages (from scikit-learn->datacleaner) (1.0.0)\n",
      "Requirement already satisfied: scipy>=0.17.0 in /usr/local/lib/python3.6/dist-packages (from scikit-learn->datacleaner) (1.4.1)\n",
      "Requirement already satisfied: pytz>=2017.2 in /usr/local/lib/python3.6/dist-packages (from pandas->datacleaner) (2018.9)\n",
      "Requirement already satisfied: python-dateutil>=2.7.3 in /usr/local/lib/python3.6/dist-packages (from pandas->datacleaner) (2.8.1)\n",
      "Requirement already satisfied: urllib3!=1.25.0,!=1.25.1,<1.26,>=1.21.1 in /usr/local/lib/python3.6/dist-packages (from requests>=2.3.0->update-checker->datacleaner) (1.24.3)\n",
      "Requirement already satisfied: idna<3,>=2.5 in /usr/local/lib/python3.6/dist-packages (from requests>=2.3.0->update-checker->datacleaner) (2.10)\n",
      "Requirement already satisfied: certifi>=2017.4.17 in /usr/local/lib/python3.6/dist-packages (from requests>=2.3.0->update-checker->datacleaner) (2020.12.5)\n",
      "Requirement already satisfied: chardet<4,>=3.0.2 in /usr/local/lib/python3.6/dist-packages (from requests>=2.3.0->update-checker->datacleaner) (3.0.4)\n",
      "Requirement already satisfied: six>=1.5 in /usr/local/lib/python3.6/dist-packages (from python-dateutil>=2.7.3->pandas->datacleaner) (1.15.0)\n"
     ]
    }
   ],
   "source": [
    "pip install datacleaner"
   ]
  },
  {
   "cell_type": "code",
   "execution_count": null,
   "metadata": {
    "id": "P0xpnCP3TTHh"
   },
   "outputs": [],
   "source": [
    "from datacleaner import autoclean"
   ]
  },
  {
   "cell_type": "markdown",
   "metadata": {
    "id": "d0I1FRBQPTJc"
   },
   "source": [
    "## Train Clean"
   ]
  },
  {
   "cell_type": "code",
   "execution_count": null,
   "metadata": {
    "colab": {
     "base_uri": "https://localhost:8080/",
     "height": 639
    },
    "id": "vciKusCXPNDk",
    "outputId": "6c643440-3d49-4ded-85ce-345d0c5b775b"
   },
   "outputs": [
    {
     "data": {
      "text/html": [
       "<div>\n",
       "<style scoped>\n",
       "    .dataframe tbody tr th:only-of-type {\n",
       "        vertical-align: middle;\n",
       "    }\n",
       "\n",
       "    .dataframe tbody tr th {\n",
       "        vertical-align: top;\n",
       "    }\n",
       "\n",
       "    .dataframe thead th {\n",
       "        text-align: right;\n",
       "    }\n",
       "</style>\n",
       "<table border=\"1\" class=\"dataframe\">\n",
       "  <thead>\n",
       "    <tr style=\"text-align: right;\">\n",
       "      <th></th>\n",
       "      <th>Total</th>\n",
       "      <th>Percent</th>\n",
       "    </tr>\n",
       "  </thead>\n",
       "  <tbody>\n",
       "    <tr>\n",
       "      <th>no_name</th>\n",
       "      <td>50000</td>\n",
       "      <td>1.00000</td>\n",
       "    </tr>\n",
       "    <tr>\n",
       "      <th>total_add_gtime</th>\n",
       "      <td>49624</td>\n",
       "      <td>0.99248</td>\n",
       "    </tr>\n",
       "    <tr>\n",
       "      <th>first_dep_time</th>\n",
       "      <td>49624</td>\n",
       "      <td>0.99248</td>\n",
       "    </tr>\n",
       "    <tr>\n",
       "      <th>longest_add_gtime</th>\n",
       "      <td>49624</td>\n",
       "      <td>0.99248</td>\n",
       "    </tr>\n",
       "    <tr>\n",
       "      <th>cancellation_code</th>\n",
       "      <td>49145</td>\n",
       "      <td>0.98290</td>\n",
       "    </tr>\n",
       "    <tr>\n",
       "      <th>late_aircraft_delay</th>\n",
       "      <td>40645</td>\n",
       "      <td>0.81290</td>\n",
       "    </tr>\n",
       "    <tr>\n",
       "      <th>security_delay</th>\n",
       "      <td>40645</td>\n",
       "      <td>0.81290</td>\n",
       "    </tr>\n",
       "    <tr>\n",
       "      <th>nas_delay</th>\n",
       "      <td>40645</td>\n",
       "      <td>0.81290</td>\n",
       "    </tr>\n",
       "    <tr>\n",
       "      <th>weather_delay</th>\n",
       "      <td>40645</td>\n",
       "      <td>0.81290</td>\n",
       "    </tr>\n",
       "    <tr>\n",
       "      <th>carrier_delay</th>\n",
       "      <td>40645</td>\n",
       "      <td>0.81290</td>\n",
       "    </tr>\n",
       "    <tr>\n",
       "      <th>air_time</th>\n",
       "      <td>980</td>\n",
       "      <td>0.01960</td>\n",
       "    </tr>\n",
       "    <tr>\n",
       "      <th>arr_delay</th>\n",
       "      <td>969</td>\n",
       "      <td>0.01938</td>\n",
       "    </tr>\n",
       "    <tr>\n",
       "      <th>actual_elapsed_time</th>\n",
       "      <td>960</td>\n",
       "      <td>0.01920</td>\n",
       "    </tr>\n",
       "    <tr>\n",
       "      <th>wheels_on</th>\n",
       "      <td>900</td>\n",
       "      <td>0.01800</td>\n",
       "    </tr>\n",
       "    <tr>\n",
       "      <th>taxi_in</th>\n",
       "      <td>893</td>\n",
       "      <td>0.01786</td>\n",
       "    </tr>\n",
       "    <tr>\n",
       "      <th>wheels_off</th>\n",
       "      <td>879</td>\n",
       "      <td>0.01758</td>\n",
       "    </tr>\n",
       "    <tr>\n",
       "      <th>taxi_out</th>\n",
       "      <td>879</td>\n",
       "      <td>0.01758</td>\n",
       "    </tr>\n",
       "    <tr>\n",
       "      <th>arr_time</th>\n",
       "      <td>873</td>\n",
       "      <td>0.01746</td>\n",
       "    </tr>\n",
       "    <tr>\n",
       "      <th>dep_delay</th>\n",
       "      <td>860</td>\n",
       "      <td>0.01720</td>\n",
       "    </tr>\n",
       "    <tr>\n",
       "      <th>dep_time</th>\n",
       "      <td>846</td>\n",
       "      <td>0.01692</td>\n",
       "    </tr>\n",
       "  </tbody>\n",
       "</table>\n",
       "</div>"
      ],
      "text/plain": [
       "                     Total  Percent\n",
       "no_name              50000  1.00000\n",
       "total_add_gtime      49624  0.99248\n",
       "first_dep_time       49624  0.99248\n",
       "longest_add_gtime    49624  0.99248\n",
       "cancellation_code    49145  0.98290\n",
       "late_aircraft_delay  40645  0.81290\n",
       "security_delay       40645  0.81290\n",
       "nas_delay            40645  0.81290\n",
       "weather_delay        40645  0.81290\n",
       "carrier_delay        40645  0.81290\n",
       "air_time               980  0.01960\n",
       "arr_delay              969  0.01938\n",
       "actual_elapsed_time    960  0.01920\n",
       "wheels_on              900  0.01800\n",
       "taxi_in                893  0.01786\n",
       "wheels_off             879  0.01758\n",
       "taxi_out               879  0.01758\n",
       "arr_time               873  0.01746\n",
       "dep_delay              860  0.01720\n",
       "dep_time               846  0.01692"
      ]
     },
     "execution_count": 303,
     "metadata": {
      "tags": []
     },
     "output_type": "execute_result"
    }
   ],
   "source": [
    "#to know the missing values\r\n",
    "tdata=train_data\r\n",
    "total = tdata.isnull().sum().sort_values(ascending=False)\r\n",
    "percent = (tdata.isnull().sum()/tdata.isnull().count()).sort_values(ascending=False)\r\n",
    "missing_datat = pd.concat([total, percent], axis=1, keys=['Total', 'Percent'])\r\n",
    "missing_datat.head(20)"
   ]
  },
  {
   "cell_type": "code",
   "execution_count": null,
   "metadata": {
    "id": "o0aJ2TY2PbOS"
   },
   "outputs": [],
   "source": [
    "#remove the columns with missing data more than 40 percent\r\n",
    "missing_datat[missing_datat['Percent']>.40].index.to_list()\r\n",
    "tdata.loc[:,missing_datat[missing_datat['Percent']>.40].index.to_list()]\r\n",
    "data_columnt=tdata.drop(missing_datat[missing_datat['Percent']>.40].index.to_list(),axis=1)\r\n",
    "data_column = data_columnt"
   ]
  },
  {
   "cell_type": "code",
   "execution_count": null,
   "metadata": {
    "id": "2ACvJEWZQcGs"
   },
   "outputs": [],
   "source": [
    "#filling the nan value with mean or median value\r\n",
    "median = data_column[\"arr_delay\"].median()\r\n",
    "data_column[\"arr_delay\"].fillna(median, inplace=True)\r\n",
    "median1=data_column[\"air_time\"].median()\r\n",
    "data_column[\"air_time\"].fillna(median1, inplace=True)\r\n",
    "median2=data_column[\"actual_elapsed_time\"].median()\r\n",
    "data_column[\"actual_elapsed_time\"].fillna(median2,inplace=True)\r\n",
    "median3=data_column[\"taxi_in\"].median()\r\n",
    "data_column[\"taxi_in\"].fillna(median3,inplace=True)\r\n",
    "median4=data_column[\"arr_time\"].median()\r\n",
    "data_column[\"arr_time\"].fillna(median4,inplace=True)\r\n",
    "median5=data_column[\"wheels_on\"].median()\r\n",
    "data_column[\"wheels_on\"].fillna(median5,inplace=True)\r\n",
    "median6=data_column[\"taxi_out\"].median()\r\n",
    "data_column[\"taxi_out\"].fillna(median6,inplace=True)\r\n",
    "median7=data_column[\"wheels_off\"].median()\r\n",
    "data_column[\"wheels_off\"].fillna(median7,inplace=True)\r\n",
    "median8=data_column[\"dep_delay\"].median()\r\n",
    "data_column[\"dep_delay\"].fillna(median8,inplace=True)\r\n",
    "median9=data_column[\"dep_time\"].median()\r\n",
    "data_column[\"dep_time\"].fillna(median9,inplace=True)"
   ]
  },
  {
   "cell_type": "code",
   "execution_count": null,
   "metadata": {
    "id": "h4tgcNFgS-kR"
   },
   "outputs": [],
   "source": [
    "data_column.fillna(0)"
   ]
  },
  {
   "cell_type": "code",
   "execution_count": null,
   "metadata": {
    "colab": {
     "base_uri": "https://localhost:8080/",
     "height": 639
    },
    "id": "RfCWJnJRQcOQ",
    "outputId": "3bdf24b2-c20a-4bfc-b432-4e4f2afef38e"
   },
   "outputs": [
    {
     "data": {
      "text/html": [
       "<div>\n",
       "<style scoped>\n",
       "    .dataframe tbody tr th:only-of-type {\n",
       "        vertical-align: middle;\n",
       "    }\n",
       "\n",
       "    .dataframe tbody tr th {\n",
       "        vertical-align: top;\n",
       "    }\n",
       "\n",
       "    .dataframe thead th {\n",
       "        text-align: right;\n",
       "    }\n",
       "</style>\n",
       "<table border=\"1\" class=\"dataframe\">\n",
       "  <thead>\n",
       "    <tr style=\"text-align: right;\">\n",
       "      <th></th>\n",
       "      <th>Total</th>\n",
       "      <th>Percent</th>\n",
       "    </tr>\n",
       "  </thead>\n",
       "  <tbody>\n",
       "    <tr>\n",
       "      <th>distance</th>\n",
       "      <td>0</td>\n",
       "      <td>0.0</td>\n",
       "    </tr>\n",
       "    <tr>\n",
       "      <th>flights</th>\n",
       "      <td>0</td>\n",
       "      <td>0.0</td>\n",
       "    </tr>\n",
       "    <tr>\n",
       "      <th>mkt_unique_carrier</th>\n",
       "      <td>0</td>\n",
       "      <td>0.0</td>\n",
       "    </tr>\n",
       "    <tr>\n",
       "      <th>branded_code_share</th>\n",
       "      <td>0</td>\n",
       "      <td>0.0</td>\n",
       "    </tr>\n",
       "    <tr>\n",
       "      <th>mkt_carrier</th>\n",
       "      <td>0</td>\n",
       "      <td>0.0</td>\n",
       "    </tr>\n",
       "    <tr>\n",
       "      <th>mkt_carrier_fl_num</th>\n",
       "      <td>0</td>\n",
       "      <td>0.0</td>\n",
       "    </tr>\n",
       "    <tr>\n",
       "      <th>op_unique_carrier</th>\n",
       "      <td>0</td>\n",
       "      <td>0.0</td>\n",
       "    </tr>\n",
       "    <tr>\n",
       "      <th>tail_num</th>\n",
       "      <td>0</td>\n",
       "      <td>0.0</td>\n",
       "    </tr>\n",
       "    <tr>\n",
       "      <th>op_carrier_fl_num</th>\n",
       "      <td>0</td>\n",
       "      <td>0.0</td>\n",
       "    </tr>\n",
       "    <tr>\n",
       "      <th>origin_airport_id</th>\n",
       "      <td>0</td>\n",
       "      <td>0.0</td>\n",
       "    </tr>\n",
       "    <tr>\n",
       "      <th>origin</th>\n",
       "      <td>0</td>\n",
       "      <td>0.0</td>\n",
       "    </tr>\n",
       "    <tr>\n",
       "      <th>origin_city_name</th>\n",
       "      <td>0</td>\n",
       "      <td>0.0</td>\n",
       "    </tr>\n",
       "    <tr>\n",
       "      <th>dest_airport_id</th>\n",
       "      <td>0</td>\n",
       "      <td>0.0</td>\n",
       "    </tr>\n",
       "    <tr>\n",
       "      <th>dest</th>\n",
       "      <td>0</td>\n",
       "      <td>0.0</td>\n",
       "    </tr>\n",
       "    <tr>\n",
       "      <th>dest_city_name</th>\n",
       "      <td>0</td>\n",
       "      <td>0.0</td>\n",
       "    </tr>\n",
       "    <tr>\n",
       "      <th>crs_dep_time</th>\n",
       "      <td>0</td>\n",
       "      <td>0.0</td>\n",
       "    </tr>\n",
       "    <tr>\n",
       "      <th>dep_time</th>\n",
       "      <td>0</td>\n",
       "      <td>0.0</td>\n",
       "    </tr>\n",
       "    <tr>\n",
       "      <th>dep_delay</th>\n",
       "      <td>0</td>\n",
       "      <td>0.0</td>\n",
       "    </tr>\n",
       "    <tr>\n",
       "      <th>taxi_out</th>\n",
       "      <td>0</td>\n",
       "      <td>0.0</td>\n",
       "    </tr>\n",
       "    <tr>\n",
       "      <th>wheels_off</th>\n",
       "      <td>0</td>\n",
       "      <td>0.0</td>\n",
       "    </tr>\n",
       "  </tbody>\n",
       "</table>\n",
       "</div>"
      ],
      "text/plain": [
       "                    Total  Percent\n",
       "distance                0      0.0\n",
       "flights                 0      0.0\n",
       "mkt_unique_carrier      0      0.0\n",
       "branded_code_share      0      0.0\n",
       "mkt_carrier             0      0.0\n",
       "mkt_carrier_fl_num      0      0.0\n",
       "op_unique_carrier       0      0.0\n",
       "tail_num                0      0.0\n",
       "op_carrier_fl_num       0      0.0\n",
       "origin_airport_id       0      0.0\n",
       "origin                  0      0.0\n",
       "origin_city_name        0      0.0\n",
       "dest_airport_id         0      0.0\n",
       "dest                    0      0.0\n",
       "dest_city_name          0      0.0\n",
       "crs_dep_time            0      0.0\n",
       "dep_time                0      0.0\n",
       "dep_delay               0      0.0\n",
       "taxi_out                0      0.0\n",
       "wheels_off              0      0.0"
      ]
     },
     "execution_count": 307,
     "metadata": {
      "tags": []
     },
     "output_type": "execute_result"
    }
   ],
   "source": [
    "#checking for nan values\r\n",
    "data=data_column\r\n",
    "total = data.isnull().sum().sort_values(ascending=False)\r\n",
    "percent = (data.isnull().sum()/data.isnull().count()).sort_values(ascending=False)\r\n",
    "missing_data = pd.concat([total, percent], axis=1, keys=['Total', 'Percent'])\r\n",
    "missing_data.head(20)"
   ]
  },
  {
   "cell_type": "code",
   "execution_count": null,
   "metadata": {
    "colab": {
     "base_uri": "https://localhost:8080/"
    },
    "id": "4pnMDEP2QcUJ",
    "outputId": "3ce0019b-3552-4276-abf7-96e2da7f3044"
   },
   "outputs": [
    {
     "name": "stdout",
     "output_type": "stream",
     "text": [
      "<class 'pandas.core.frame.DataFrame'>\n",
      "Int64Index: 50000 entries, 11118850 to 4357767\n",
      "Data columns (total 32 columns):\n",
      " #   Column               Non-Null Count  Dtype  \n",
      "---  ------               --------------  -----  \n",
      " 0   fl_date              50000 non-null  object \n",
      " 1   mkt_unique_carrier   50000 non-null  object \n",
      " 2   branded_code_share   50000 non-null  object \n",
      " 3   mkt_carrier          50000 non-null  object \n",
      " 4   mkt_carrier_fl_num   50000 non-null  int64  \n",
      " 5   op_unique_carrier    50000 non-null  object \n",
      " 6   tail_num             50000 non-null  object \n",
      " 7   op_carrier_fl_num    50000 non-null  int64  \n",
      " 8   origin_airport_id    50000 non-null  int64  \n",
      " 9   origin               50000 non-null  object \n",
      " 10  origin_city_name     50000 non-null  object \n",
      " 11  dest_airport_id      50000 non-null  int64  \n",
      " 12  dest                 50000 non-null  object \n",
      " 13  dest_city_name       50000 non-null  object \n",
      " 14  crs_dep_time         50000 non-null  int64  \n",
      " 15  dep_time             50000 non-null  float64\n",
      " 16  dep_delay            50000 non-null  float64\n",
      " 17  taxi_out             50000 non-null  float64\n",
      " 18  wheels_off           50000 non-null  float64\n",
      " 19  wheels_on            50000 non-null  float64\n",
      " 20  taxi_in              50000 non-null  float64\n",
      " 21  crs_arr_time         50000 non-null  int64  \n",
      " 22  arr_time             50000 non-null  float64\n",
      " 23  arr_delay            50000 non-null  float64\n",
      " 24  cancelled            50000 non-null  float64\n",
      " 25  diverted             50000 non-null  float64\n",
      " 26  dup                  50000 non-null  object \n",
      " 27  crs_elapsed_time     50000 non-null  float64\n",
      " 28  actual_elapsed_time  50000 non-null  float64\n",
      " 29  air_time             50000 non-null  float64\n",
      " 30  flights              50000 non-null  float64\n",
      " 31  distance             50000 non-null  float64\n",
      "dtypes: float64(15), int64(6), object(11)\n",
      "memory usage: 12.6+ MB\n"
     ]
    }
   ],
   "source": [
    "data.info()"
   ]
  },
  {
   "cell_type": "code",
   "execution_count": null,
   "metadata": {
    "id": "4g3dMUenteP1"
   },
   "outputs": [],
   "source": []
  },
  {
   "cell_type": "code",
   "execution_count": null,
   "metadata": {
    "colab": {
     "base_uri": "https://localhost:8080/",
     "height": 421
    },
    "collapsed": true,
    "id": "rS8hddvhP5sE",
    "jupyter": {
     "outputs_hidden": true
    },
    "outputId": "7532616e-3a8d-41f2-d12f-47b62ed99a2f"
   },
   "outputs": [
    {
     "ename": "TypeError",
     "evalue": "ignored",
     "output_type": "error",
     "traceback": [
      "\u001b[0;31m---------------------------------------------------------------------------\u001b[0m",
      "\u001b[0;31mTypeError\u001b[0m                                 Traceback (most recent call last)",
      "\u001b[0;32m/usr/local/lib/python3.6/dist-packages/sklearn/preprocessing/_label.py\u001b[0m in \u001b[0;36m_encode\u001b[0;34m(values, uniques, encode, check_unknown)\u001b[0m\n\u001b[1;32m    111\u001b[0m         \u001b[0;32mtry\u001b[0m\u001b[0;34m:\u001b[0m\u001b[0;34m\u001b[0m\u001b[0;34m\u001b[0m\u001b[0m\n\u001b[0;32m--> 112\u001b[0;31m             \u001b[0mres\u001b[0m \u001b[0;34m=\u001b[0m \u001b[0m_encode_python\u001b[0m\u001b[0;34m(\u001b[0m\u001b[0mvalues\u001b[0m\u001b[0;34m,\u001b[0m \u001b[0muniques\u001b[0m\u001b[0;34m,\u001b[0m \u001b[0mencode\u001b[0m\u001b[0;34m)\u001b[0m\u001b[0;34m\u001b[0m\u001b[0;34m\u001b[0m\u001b[0m\n\u001b[0m\u001b[1;32m    113\u001b[0m         \u001b[0;32mexcept\u001b[0m \u001b[0mTypeError\u001b[0m\u001b[0;34m:\u001b[0m\u001b[0;34m\u001b[0m\u001b[0;34m\u001b[0m\u001b[0m\n",
      "\u001b[0;32m/usr/local/lib/python3.6/dist-packages/sklearn/preprocessing/_label.py\u001b[0m in \u001b[0;36m_encode_python\u001b[0;34m(values, uniques, encode)\u001b[0m\n\u001b[1;32m     59\u001b[0m     \u001b[0;32mif\u001b[0m \u001b[0muniques\u001b[0m \u001b[0;32mis\u001b[0m \u001b[0;32mNone\u001b[0m\u001b[0;34m:\u001b[0m\u001b[0;34m\u001b[0m\u001b[0;34m\u001b[0m\u001b[0m\n\u001b[0;32m---> 60\u001b[0;31m         \u001b[0muniques\u001b[0m \u001b[0;34m=\u001b[0m \u001b[0msorted\u001b[0m\u001b[0;34m(\u001b[0m\u001b[0mset\u001b[0m\u001b[0;34m(\u001b[0m\u001b[0mvalues\u001b[0m\u001b[0;34m)\u001b[0m\u001b[0;34m)\u001b[0m\u001b[0;34m\u001b[0m\u001b[0;34m\u001b[0m\u001b[0m\n\u001b[0m\u001b[1;32m     61\u001b[0m         \u001b[0muniques\u001b[0m \u001b[0;34m=\u001b[0m \u001b[0mnp\u001b[0m\u001b[0;34m.\u001b[0m\u001b[0marray\u001b[0m\u001b[0;34m(\u001b[0m\u001b[0muniques\u001b[0m\u001b[0;34m,\u001b[0m \u001b[0mdtype\u001b[0m\u001b[0;34m=\u001b[0m\u001b[0mvalues\u001b[0m\u001b[0;34m.\u001b[0m\u001b[0mdtype\u001b[0m\u001b[0;34m)\u001b[0m\u001b[0;34m\u001b[0m\u001b[0;34m\u001b[0m\u001b[0m\n",
      "\u001b[0;31mTypeError\u001b[0m: '<' not supported between instances of 'str' and 'int'",
      "\nDuring handling of the above exception, another exception occurred:\n",
      "\u001b[0;31mTypeError\u001b[0m                                 Traceback (most recent call last)",
      "\u001b[0;32m<ipython-input-309-245337ed86db>\u001b[0m in \u001b[0;36m<module>\u001b[0;34m()\u001b[0m\n\u001b[0;32m----> 1\u001b[0;31m \u001b[0mmy_clean_data\u001b[0m \u001b[0;34m=\u001b[0m \u001b[0mautoclean\u001b[0m\u001b[0;34m(\u001b[0m\u001b[0mdata\u001b[0m\u001b[0;34m)\u001b[0m\u001b[0;34m\u001b[0m\u001b[0;34m\u001b[0m\u001b[0m\n\u001b[0m",
      "\u001b[0;32m/usr/local/lib/python3.6/dist-packages/datacleaner/datacleaner.py\u001b[0m in \u001b[0;36mautoclean\u001b[0;34m(input_dataframe, drop_nans, copy, encoder, encoder_kwargs, ignore_update_check)\u001b[0m\n\u001b[1;32m     92\u001b[0m                 \u001b[0mcolumn_encoder\u001b[0m \u001b[0;34m=\u001b[0m \u001b[0mencoder\u001b[0m\u001b[0;34m(\u001b[0m\u001b[0;34m**\u001b[0m\u001b[0mencoder_kwargs\u001b[0m\u001b[0;34m)\u001b[0m\u001b[0;34m.\u001b[0m\u001b[0mfit\u001b[0m\u001b[0;34m(\u001b[0m\u001b[0minput_dataframe\u001b[0m\u001b[0;34m[\u001b[0m\u001b[0mcolumn\u001b[0m\u001b[0;34m]\u001b[0m\u001b[0;34m.\u001b[0m\u001b[0mvalues\u001b[0m\u001b[0;34m)\u001b[0m\u001b[0;34m\u001b[0m\u001b[0;34m\u001b[0m\u001b[0m\n\u001b[1;32m     93\u001b[0m             \u001b[0;32melse\u001b[0m\u001b[0;34m:\u001b[0m\u001b[0;34m\u001b[0m\u001b[0;34m\u001b[0m\u001b[0m\n\u001b[0;32m---> 94\u001b[0;31m                 \u001b[0mcolumn_encoder\u001b[0m \u001b[0;34m=\u001b[0m \u001b[0mLabelEncoder\u001b[0m\u001b[0;34m(\u001b[0m\u001b[0;34m)\u001b[0m\u001b[0;34m.\u001b[0m\u001b[0mfit\u001b[0m\u001b[0;34m(\u001b[0m\u001b[0minput_dataframe\u001b[0m\u001b[0;34m[\u001b[0m\u001b[0mcolumn\u001b[0m\u001b[0;34m]\u001b[0m\u001b[0;34m.\u001b[0m\u001b[0mvalues\u001b[0m\u001b[0;34m)\u001b[0m\u001b[0;34m\u001b[0m\u001b[0;34m\u001b[0m\u001b[0m\n\u001b[0m\u001b[1;32m     95\u001b[0m \u001b[0;34m\u001b[0m\u001b[0m\n\u001b[1;32m     96\u001b[0m             \u001b[0minput_dataframe\u001b[0m\u001b[0;34m[\u001b[0m\u001b[0mcolumn\u001b[0m\u001b[0;34m]\u001b[0m \u001b[0;34m=\u001b[0m \u001b[0mcolumn_encoder\u001b[0m\u001b[0;34m.\u001b[0m\u001b[0mtransform\u001b[0m\u001b[0;34m(\u001b[0m\u001b[0minput_dataframe\u001b[0m\u001b[0;34m[\u001b[0m\u001b[0mcolumn\u001b[0m\u001b[0;34m]\u001b[0m\u001b[0;34m.\u001b[0m\u001b[0mvalues\u001b[0m\u001b[0;34m)\u001b[0m\u001b[0;34m\u001b[0m\u001b[0;34m\u001b[0m\u001b[0m\n",
      "\u001b[0;32m/usr/local/lib/python3.6/dist-packages/sklearn/preprocessing/_label.py\u001b[0m in \u001b[0;36mfit\u001b[0;34m(self, y)\u001b[0m\n\u001b[1;32m    234\u001b[0m         \"\"\"\n\u001b[1;32m    235\u001b[0m         \u001b[0my\u001b[0m \u001b[0;34m=\u001b[0m \u001b[0mcolumn_or_1d\u001b[0m\u001b[0;34m(\u001b[0m\u001b[0my\u001b[0m\u001b[0;34m,\u001b[0m \u001b[0mwarn\u001b[0m\u001b[0;34m=\u001b[0m\u001b[0;32mTrue\u001b[0m\u001b[0;34m)\u001b[0m\u001b[0;34m\u001b[0m\u001b[0;34m\u001b[0m\u001b[0m\n\u001b[0;32m--> 236\u001b[0;31m         \u001b[0mself\u001b[0m\u001b[0;34m.\u001b[0m\u001b[0mclasses_\u001b[0m \u001b[0;34m=\u001b[0m \u001b[0m_encode\u001b[0m\u001b[0;34m(\u001b[0m\u001b[0my\u001b[0m\u001b[0;34m)\u001b[0m\u001b[0;34m\u001b[0m\u001b[0;34m\u001b[0m\u001b[0m\n\u001b[0m\u001b[1;32m    237\u001b[0m         \u001b[0;32mreturn\u001b[0m \u001b[0mself\u001b[0m\u001b[0;34m\u001b[0m\u001b[0;34m\u001b[0m\u001b[0m\n\u001b[1;32m    238\u001b[0m \u001b[0;34m\u001b[0m\u001b[0m\n",
      "\u001b[0;32m/usr/local/lib/python3.6/dist-packages/sklearn/preprocessing/_label.py\u001b[0m in \u001b[0;36m_encode\u001b[0;34m(values, uniques, encode, check_unknown)\u001b[0m\n\u001b[1;32m    112\u001b[0m             \u001b[0mres\u001b[0m \u001b[0;34m=\u001b[0m \u001b[0m_encode_python\u001b[0m\u001b[0;34m(\u001b[0m\u001b[0mvalues\u001b[0m\u001b[0;34m,\u001b[0m \u001b[0muniques\u001b[0m\u001b[0;34m,\u001b[0m \u001b[0mencode\u001b[0m\u001b[0;34m)\u001b[0m\u001b[0;34m\u001b[0m\u001b[0;34m\u001b[0m\u001b[0m\n\u001b[1;32m    113\u001b[0m         \u001b[0;32mexcept\u001b[0m \u001b[0mTypeError\u001b[0m\u001b[0;34m:\u001b[0m\u001b[0;34m\u001b[0m\u001b[0;34m\u001b[0m\u001b[0m\n\u001b[0;32m--> 114\u001b[0;31m             \u001b[0;32mraise\u001b[0m \u001b[0mTypeError\u001b[0m\u001b[0;34m(\u001b[0m\u001b[0;34m\"argument must be a string or number\"\u001b[0m\u001b[0;34m)\u001b[0m\u001b[0;34m\u001b[0m\u001b[0;34m\u001b[0m\u001b[0m\n\u001b[0m\u001b[1;32m    115\u001b[0m         \u001b[0;32mreturn\u001b[0m \u001b[0mres\u001b[0m\u001b[0;34m\u001b[0m\u001b[0;34m\u001b[0m\u001b[0m\n\u001b[1;32m    116\u001b[0m     \u001b[0;32melse\u001b[0m\u001b[0;34m:\u001b[0m\u001b[0;34m\u001b[0m\u001b[0;34m\u001b[0m\u001b[0m\n",
      "\u001b[0;31mTypeError\u001b[0m: argument must be a string or number"
     ]
    }
   ],
   "source": [
    "my_clean_data = autoclean(data)"
   ]
  },
  {
   "cell_type": "code",
   "execution_count": null,
   "metadata": {
    "id": "FhNJeRF8P5u1"
   },
   "outputs": [],
   "source": [
    "my_clean_data.head()"
   ]
  },
  {
   "cell_type": "code",
   "execution_count": null,
   "metadata": {
    "id": "hWOjrYeRP5xA"
   },
   "outputs": [],
   "source": [
    "train_df = my_clean_data.copy()"
   ]
  },
  {
   "cell_type": "markdown",
   "metadata": {
    "id": "4Unox5pfPXbd"
   },
   "source": [
    "## Test Clean"
   ]
  },
  {
   "cell_type": "code",
   "execution_count": null,
   "metadata": {
    "id": "ebR35KLDpf8H"
   },
   "outputs": [],
   "source": [
    "final_data=final_data_original.copy()"
   ]
  },
  {
   "cell_type": "code",
   "execution_count": null,
   "metadata": {
    "id": "4sb2PRDZPaYq"
   },
   "outputs": [],
   "source": [
    "final_data['fl_date'] = final_data.fl_date.dt.date"
   ]
  },
  {
   "cell_type": "code",
   "execution_count": null,
   "metadata": {
    "id": "GBV2cL0vPtvY"
   },
   "outputs": [],
   "source": [
    "final_data.fl_date = final_data.fl_date.astype('object')"
   ]
  },
  {
   "cell_type": "code",
   "execution_count": null,
   "metadata": {
    "id": "yEjiZTMlPypq"
   },
   "outputs": [],
   "source": [
    "#to know the missing values\r\n",
    "fdata=final_data\r\n",
    "total = fdata.isnull().sum().sort_values(ascending=False)\r\n",
    "percent = (fdata.isnull().sum()/fdata.isnull().count()).sort_values(ascending=False)\r\n",
    "missing_dataf = pd.concat([total, percent], axis=1, keys=['Total', 'Percent'])\r\n",
    "missing_dataf.head(20)"
   ]
  },
  {
   "cell_type": "code",
   "execution_count": null,
   "metadata": {
    "id": "5nloAtfOP2sN"
   },
   "outputs": [],
   "source": [
    "my_clean_dataf = autoclean(fdata)"
   ]
  },
  {
   "cell_type": "code",
   "execution_count": null,
   "metadata": {
    "id": "7Ll19lL2P2x0"
   },
   "outputs": [],
   "source": [
    "final_df = my_clean_dataf.copy()"
   ]
  },
  {
   "cell_type": "markdown",
   "metadata": {
    "id": "nS_ZAqe9TqV8"
   },
   "source": [
    "# Train Model"
   ]
  },
  {
   "cell_type": "code",
   "execution_count": null,
   "metadata": {
    "id": "4qtPSZ11dw_4"
   },
   "outputs": [],
   "source": [
    "from sklearn.ensemble import RandomForestRegressor"
   ]
  },
  {
   "cell_type": "code",
   "execution_count": null,
   "metadata": {
    "id": "i5MrIOHEeMui"
   },
   "outputs": [],
   "source": [
    "X = train_df.loc[:,['fl_date', 'mkt_unique_carrier', 'branded_code_share', 'mkt_carrier',\r\n",
    "       'mkt_carrier_fl_num', 'op_unique_carrier', 'tail_num',\r\n",
    "       'op_carrier_fl_num', 'origin_airport_id', 'origin', 'origin_city_name',\r\n",
    "       'dest_airport_id', 'dest', 'dest_city_name', 'crs_dep_time',\r\n",
    "       'crs_arr_time', 'dup', 'crs_elapsed_time', 'flights', 'distance']]\r\n",
    "y = train_df['arr_delay']"
   ]
  },
  {
   "cell_type": "code",
   "execution_count": null,
   "metadata": {
    "id": "b1z6MTtWdxI0"
   },
   "outputs": [],
   "source": [
    "from sklearn.model_selection import train_test_split # Import train_test_split function\r\n",
    "# Split dataset into training set and test set\r\n",
    "X_train, X_test, y_train, y_test = train_test_split(X, y, test_size=0.3, random_state=1) # 70% training and 30% test"
   ]
  },
  {
   "cell_type": "code",
   "execution_count": null,
   "metadata": {
    "id": "diIkzZXAdxLV"
   },
   "outputs": [],
   "source": [
    "from sklearn.preprocessing import StandardScaler\r\n",
    "scaler = StandardScaler()\r\n",
    "scaler.fit(X_train)\r\n",
    "X_train = scaler.transform(X_train)\r\n",
    "X_test = scaler.transform(X_test)"
   ]
  },
  {
   "cell_type": "code",
   "execution_count": null,
   "metadata": {
    "id": "nobzUMjddxOE"
   },
   "outputs": [],
   "source": [
    "from sklearn.ensemble import RandomForestRegressor\r\n",
    "rf = RandomForestRegressor(bootstrap=True, max_depth=90,max_features= 7, min_samples_leaf=6,min_samples_split=9,n_estimators=450)"
   ]
  },
  {
   "cell_type": "code",
   "execution_count": null,
   "metadata": {
    "id": "Tq8W3bl8e1XZ"
   },
   "outputs": [],
   "source": [
    "rf.fit(X_train, y_train)"
   ]
  },
  {
   "cell_type": "code",
   "execution_count": null,
   "metadata": {
    "id": "4wjgAqvqfqGl"
   },
   "outputs": [],
   "source": [
    "y_pred_test=rf.predict(X_test)"
   ]
  },
  {
   "cell_type": "code",
   "execution_count": null,
   "metadata": {
    "id": "G6Lx3ouQfqPR"
   },
   "outputs": [],
   "source": [
    "print(\"----------------- TRAINING ------------------------\")\r\n",
    "print(\"r-squared score: \",rf.score(X_train, y_train))\r\n",
    "print(\"------------------- TEST --------------------------\")\r\n",
    "print(\"r-squared score: \", rf.score(X_test,y_test))"
   ]
  },
  {
   "cell_type": "markdown",
   "metadata": {
    "id": "_F0s_B1PTwfa"
   },
   "source": [
    "# Perform Test"
   ]
  },
  {
   "cell_type": "code",
   "execution_count": null,
   "metadata": {
    "id": "kidIAXtmUNDF"
   },
   "outputs": [],
   "source": [
    "X_final = final_data.copy()"
   ]
  },
  {
   "cell_type": "code",
   "execution_count": null,
   "metadata": {
    "id": "q78YvuwwTupE"
   },
   "outputs": [],
   "source": [
    "y_pred_final=rf.predict(X_final)"
   ]
  },
  {
   "cell_type": "code",
   "execution_count": null,
   "metadata": {
    "id": "Gl1SDREioLWN"
   },
   "outputs": [],
   "source": [
    "y_pred_final.shape"
   ]
  },
  {
   "cell_type": "markdown",
   "metadata": {
    "id": "rtcJQ8DmT12b"
   },
   "source": [
    "# Export Data"
   ]
  },
  {
   "cell_type": "code",
   "execution_count": null,
   "metadata": {
    "id": "lmtlzGtzUIhk"
   },
   "outputs": [],
   "source": [
    "df = final_data_original.copy()"
   ]
  },
  {
   "cell_type": "code",
   "execution_count": null,
   "metadata": {
    "id": "cokGrUvZn1Ii"
   },
   "outputs": [],
   "source": [
    "df.shape"
   ]
  },
  {
   "cell_type": "code",
   "execution_count": null,
   "metadata": {
    "id": "JfMk2h8GT3o7"
   },
   "outputs": [],
   "source": [
    "df['predicted_delay'] = y_pred_final"
   ]
  },
  {
   "cell_type": "code",
   "execution_count": null,
   "metadata": {
    "id": "hO19Xkf5n7x-"
   },
   "outputs": [],
   "source": [
    "df.head()"
   ]
  },
  {
   "cell_type": "code",
   "execution_count": null,
   "metadata": {
    "id": "A7H6KcNaT6qK"
   },
   "outputs": [],
   "source": [
    "df_final = df.loc[:,['fl_date',\t'mkt_carrier',\t'mkt_carrier_fl_num',\t'origin',\t'dest',\t'predicted_delay']]"
   ]
  },
  {
   "cell_type": "code",
   "execution_count": null,
   "metadata": {
    "id": "R_Yk6-MyT6xq"
   },
   "outputs": [],
   "source": [
    "df_final.head()"
   ]
  },
  {
   "cell_type": "code",
   "execution_count": null,
   "metadata": {
    "id": "2Mnss4X0T60P"
   },
   "outputs": [],
   "source": [
    "df_final.to_csv('/content/drive/MyDrive/submission.csv')"
   ]
  }
 ],
 "metadata": {
  "colab": {
   "authorship_tag": "ABX9TyM0a96aczNCATvQyE9wrfWt",
   "collapsed_sections": [
    "d0I1FRBQPTJc"
   ],
   "mount_file_id": "1COxIjVda2KrYKMVvNWq1yeEbsNuyThiV",
   "name": "Final Clean.ipynb",
   "provenance": []
  },
  "kernelspec": {
   "display_name": "Python 3",
   "language": "python",
   "name": "python3"
  },
  "language_info": {
   "codemirror_mode": {
    "name": "ipython",
    "version": 3
   },
   "file_extension": ".py",
   "mimetype": "text/x-python",
   "name": "python",
   "nbconvert_exporter": "python",
   "pygments_lexer": "ipython3",
   "version": "3.7.7"
  }
 },
 "nbformat": 4,
 "nbformat_minor": 4
}
